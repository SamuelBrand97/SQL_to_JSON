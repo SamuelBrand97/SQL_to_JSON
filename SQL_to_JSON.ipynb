{
 "cells": [
  {
   "cell_type": "code",
   "execution_count": null,
   "metadata": {},
   "outputs": [],
   "source": [
    "import sqlite3\n",
    "import pymongo\n",
    "import dns\n",
    "\n",
    "def MigracionSQL_NoSQL():\n",
    "    #Conect to SQL DB\n",
    "    conexion = sqlite3.connect('love4pets.db') \n",
    "    cursor = conexion.cursor()\n",
    "\n",
    "    #Get the tables in SQL DB\n",
    "    cursor.execute(\"SELECT name FROM sqlite_master WHERE type='table';\")\n",
    "    tablas = cursor.fetchall()\n",
    "\n",
    "    #Crete a Mongo DB\n",
    "    BaseDatos = client[nombreDB]\n",
    "\n",
    "    datos = []\n",
    "    dic = {}\n",
    "\n",
    "    for i in range(len(tablas)):\n",
    "        tabla = str(tablas[i][0])\n",
    "        cadena = \"SELECT * FROM \" + tabla    \n",
    "        cursor.execute(cadena)\n",
    "        elementos = cursor.fetchall()\n",
    "        \n",
    "        for k in range(len(elementos)):\n",
    "            for j in range(len(cursor.description)):\n",
    "                dic[cursor.description[j][0]] = elementos[k][j]\n",
    "            datos.append(dic)\n",
    "            dic = {}   \n",
    "        \n",
    "        col = BaseDatos[tabla]\n",
    "        col.insert_many(datos)\n",
    "\n",
    "        datos = [] \n",
    "    print(\"Datebase create successfully\")\n",
    "\n",
    "#Acces to MongoDB\n",
    "cliente = pymongo.MongoClient(\" \") ###Your credentials\n",
    "nombreDB = \"love4pets\" #Name of SQL DB\n",
    "\n",
    "\n",
    "dblista = cliente.list_database_names()\n",
    "if nombreDB in dblista:\n",
    "    print(\"Data base already exist!\")\n",
    "else:\n",
    "    MigracionSQL_NoSQL()"
   ]
  }
 ],
 "metadata": {
  "kernelspec": {
   "display_name": "Python 3",
   "language": "python",
   "name": "python3"
  },
  "language_info": {
   "codemirror_mode": {
    "name": "ipython",
    "version": 3
   },
   "file_extension": ".py",
   "mimetype": "text/x-python",
   "name": "python",
   "nbconvert_exporter": "python",
   "pygments_lexer": "ipython3",
   "version": "3.8.5"
  }
 },
 "nbformat": 4,
 "nbformat_minor": 4
}
